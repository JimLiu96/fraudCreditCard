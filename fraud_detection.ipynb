{
 "cells": [
  {
   "cell_type": "code",
   "execution_count": 40,
   "metadata": {},
   "outputs": [],
   "source": [
    "%matplotlib inline\n",
    "\n",
    "import matplotlib.pyplot as plt"
   ]
  },
  {
   "cell_type": "code",
   "execution_count": 28,
   "metadata": {},
   "outputs": [],
   "source": [
    "# !pip install panda\n",
    "# import random\n",
    "# import pandas as pd\n",
    "#from imblearn.under_sampling import ClusterCentroids\n",
    "import dataGenerator\n",
    "from sklearn.linear_model import LogisticRegression\n",
    "from sklearn.metrics import (accuracy_score, precision_score, recall_score,\n",
    "                             f1_score, roc_curve, confusion_matrix,roc_auc_score)\n",
    "from sklearn.model_selection import StratifiedKFold,cross_val_score"
   ]
  },
  {
   "cell_type": "markdown",
   "metadata": {},
   "source": [
    "## DataGenerator package\n",
    "\n",
    "1. **dataGenererator.splitData()**\n",
    "    return trainFeature, trainLabel, testFeature, testLabel\n",
    "2. **dataGenerator.resampling(trainFeature, trainLabel, alpha = 1, method=\"under_sampling\")**\n",
    "    return resampled balanced features and its corresponding labels. Alpha is the balance factor, it is the ratio between **neg:pos** of the resampled data. method is the sampling method, it can be \"under_sampling\" or \"over_sampling\". \n",
    "    \n",
    "    **\"under_sampling\"** samples the data from negative data which are the majority. \n",
    "    \n",
    "    **\"over_sampling\"** samples from the positive data which are the minority. \n",
    "\n",
    "## Sampling setting\n",
    "\n",
    "Here, we should choose the ratio, i.e. alpha parameter in the resampling function, to be same for different sampling methods. All of us should choose\n",
    "\n",
    "**alpha = [1, 10, 20, 50]**"
   ]
  },
  {
   "cell_type": "code",
   "execution_count": 61,
   "metadata": {
    "scrolled": true
   },
   "outputs": [
    {
     "name": "stdout",
     "output_type": "stream",
     "text": [
      "232818\n",
      "(237474, 30) (233215, 30)\n"
     ]
    }
   ],
   "source": [
    "# trainFeature, trainLabel, testFeature, testLabel = dataGenerator.splitData()\n",
    "alpha = 50\n",
    "sampleFeature, sampleLabel = dataGenerator.resampling(trainFeature, trainLabel, alpha = alpha, method=\"over_sampling\")\n",
    "print(len(sampleLabel[sampleLabel == 0]))\n",
    "# print(sampleLabel)\n",
    "print(sampleFeature.shape, trainFeature.shape)"
   ]
  },
  {
   "cell_type": "code",
   "execution_count": 17,
   "metadata": {},
   "outputs": [
    {
     "name": "stderr",
     "output_type": "stream",
     "text": [
      "/opt/anaconda2/envs/zhiweitensorflow3/lib/python3.6/site-packages/sklearn/linear_model/logistic.py:757: ConvergenceWarning: lbfgs failed to converge. Increase the number of iterations.\n",
      "  \"of iterations.\", ConvergenceWarning)\n"
     ]
    },
    {
     "name": "stdout",
     "output_type": "stream",
     "text": [
      "[0.7465174653118265, 0.7720457901099316, 0.760319727920979, 0.7820598910250645, 0.7736849812370333]\n"
     ]
    }
   ],
   "source": [
    "# cross validation\n",
    "# under_sampling_iter_num = 500\n",
    "# over_sampling_iter_num = int(1000/alpha)\n",
    "# C_set = [0.01,0.1,1,10,100]\n",
    "# score_cv = []\n",
    "# for C in C_set:\n",
    "#     lr_cv = LogisticRegression(C=C, solver='lbfgs', max_iter = 500)\n",
    "#     scores = cross_val_score(lr_cv, trainFeature, trainLabel, scoring='f1_macro',cv=5)\n",
    "#     score_cv.append(scores.mean())\n",
    "# print(score_cv)"
   ]
  },
  {
   "cell_type": "code",
   "execution_count": 62,
   "metadata": {},
   "outputs": [
    {
     "name": "stdout",
     "output_type": "stream",
     "text": [
      "\tAccuracy: 0.99744\n",
      "\tPrecision: 0.38424\n",
      "\tRecall: 0.78788\n",
      "\tF1: 0.51656\n",
      "\tAUC: 0.92513\n",
      "\n"
     ]
    }
   ],
   "source": [
    "lr_sample = LogisticRegression(C=10, solver='lbfgs', max_iter = 500)\n",
    "lr_sample.fit(sampleFeature, sampleLabel)\n",
    "sampleLabelPredict = lr_sample.predict(testFeature)\n",
    "prob_pos_sample = lr_sample.predict_proba(testFeature)[:, 1]\n",
    "fpr_sample, tpr_sample, _ = roc_curve(testLabel, prob_pos_sample)\n",
    "\n",
    "# prob_pos = lr_sample.predict_proba(testFeature)[:, 0]\n",
    "# print(testLabelPredict)\n",
    "# trainLabelPredict = lr_sample.predict(trainFeature)\n",
    "# print(\"\\tPrecision: %1.3f\" % precision_score(trainLabelPredict, trainLabel))\n",
    "# print(\"\\tRecall: %1.3f\" % recall_score(trainLabelPredict, trainLabel))\n",
    "# print(\"\\tF1: %1.3f\\n\" % f1_score(trainLabelPredict, trainLabel))\n",
    "sampleConfusion = confusion_matrix(testLabel, sampleLabelPredict)\n",
    "acc_score = accuracy_score(testLabel, sampleLabelPredict)\n",
    "preci_score = precision_score(testLabel, sampleLabelPredict)\n",
    "re_score = recall_score(testLabel, sampleLabelPredict)\n",
    "f_score = f1_score(testLabel, s   ampleLabelPredict)\n",
    "auc_score = roc_auc_score(testLabel, sampleLabelPredict)\n",
    "print(\"\\tAccuracy: %1.5f\" % accuracy_score(testLabel, sampleLabelPredict))\n",
    "print(\"\\tPrecision: %1.5f\" % precision_score(testLabel, sampleLabelPredict))\n",
    "print(\"\\tRecall: %1.5f\" % recall_score(testLabel, sampleLabelPredict))\n",
    "print(\"\\tF1: %1.5f\" % f1_score(testLabel, sampleLabelPredict))\n",
    "print(\"\\tAUC: %1.5f\\n\" % roc_auc_score(testLabel, prob_pos_sample))\n",
    "# print(sampleConfusion)\n",
    "# print(acc_score,'\\t',preci_score,'\\t',re_score,'\\t',f_score,'\\t',auc_score)"
   ]
  },
  {
   "cell_type": "markdown",
   "metadata": {},
   "source": []
  },
  {
   "cell_type": "code",
   "execution_count": 37,
   "metadata": {},
   "outputs": [],
   "source": [
    "lr_full = LogisticRegression(C=1., solver='lbfgs', max_iter = 500)\n",
    "lr_full.fit(trainFeature, trainLabel)\n",
    "testLabelPredict = lr_full.predict(testFeature)\n",
    "prob_pos_test = lr_full.predict_proba(testFeature)[:, 1]\n",
    "fpr_full, tpr_full, _ = roc_curve(testLabel, prob_pos_test)"
   ]
  },
  {
   "cell_type": "code",
   "execution_count": 38,
   "metadata": {},
   "outputs": [
    {
     "name": "stdout",
     "output_type": "stream",
     "text": [
      "\tAccuracy: 0.99903\n",
      "\tPrecision: 0.78947\n",
      "\tRecall: 0.60606\n",
      "\tF1: 0.68571\n",
      "\tAUC: 0.94123\n",
      "\n",
      "[[56846    16]\n",
      " [   39    60]]\n"
     ]
    }
   ],
   "source": [
    "fpr_full, tpr_full, _ = roc_curve(testLabel, prob_pos_test)\n",
    "testConfusion = confusion_matrix(testLabel, testLabelPredict)\n",
    "print(\"\\tAccuracy: %1.5f\" % accuracy_score(testLabel, testLabelPredict))\n",
    "print(\"\\tPrecision: %1.5f\" % precision_score(testLabel, testLabelPredict))\n",
    "print(\"\\tRecall: %1.5f\" % recall_score(testLabel, testLabelPredict))\n",
    "print(\"\\tF1: %1.5f\" % f1_score(testLabel, testLabelPredict))\n",
    "print(\"\\tAUC: %1.5f\\n\" % roc_auc_score(testLabel, prob_pos_test))\n",
    "print(testConfusion)"
   ]
  },
  {
   "cell_type": "code",
   "execution_count": 44,
   "metadata": {},
   "outputs": [
    {
     "data": {
      "image/png": "[encoded data removed]",
      "text/plain": [
       "<Figure size 432x288 with 1 Axes>"
      ]
     },
     "metadata": {
      "needs_background": "light"
     },
     "output_type": "display_data"
    }
   ],
   "source": [
    "plt.figure(1)\n",
    "plt.plot([0, 1], [0, 1], 'k--')\n",
    "plt.plot(fpr_sample, tpr_sample, label='sampled lr')\n",
    "plt.plot(fpr_full, tpr_full, label='fully lr')\n",
    "plt.xlabel('False positive rate')\n",
    "plt.ylabel('True positive rate')\n",
    "plt.title('ROC curve')\n",
    "plt.legend(loc='best')\n",
    "plt.show()"
   ]
  },
  {
   "cell_type": "code",
   "execution_count": null,
   "metadata": {},
   "outputs": [],
   "source": []
  },
  {
   "cell_type": "code",
   "execution_count": null,
   "metadata": {},
   "outputs": [],
   "source": []
  },
  {
   "cell_type": "code",
   "execution_count": null,
   "metadata": {},
   "outputs": [],
   "source": []
  }
 ],
 "metadata": {
  "kernelspec": {
   "display_name": "Python [conda env:zhiweitensorflow3]",
   "language": "python",
   "name": "conda-env-zhiweitensorflow3-py"
  },
  "language_info": {
   "codemirror_mode": {
    "name": "ipython",
    "version": 3
   },
   "file_extension": ".py",
   "mimetype": "text/x-python",
   "name": "python",
   "nbconvert_exporter": "python",
   "pygments_lexer": "ipython3",
   "version": "3.6.6"
  }
 },
 "nbformat": 4,
 "nbformat_minor": 2
}
