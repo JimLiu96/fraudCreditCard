{
 "cells": [
  {
   "cell_type": "code",
   "execution_count": 4,
   "metadata": {},
   "outputs": [],
   "source": [
    "# !pip install panda\n",
    "import random\n",
    "import pandas as pd"
   ]
  },
  {
   "cell_type": "code",
   "execution_count": 7,
   "metadata": {},
   "outputs": [],
   "source": [
    "filename = 'creditcard.csv'\n",
    "data = pd.read_csv(filename)"
   ]
  },
  {
   "cell_type": "code",
   "execution_count": 17,
   "metadata": {},
   "outputs": [
    {
     "name": "stdout",
     "output_type": "stream",
     "text": [
      "31\n",
      "[ 2.00000000e+00 -1.15823309e+00  8.77736755e-01  1.54871785e+00\n",
      "  4.03033934e-01 -4.07193377e-01  9.59214625e-02  5.92940745e-01\n",
      " -2.70532677e-01  8.17739308e-01  7.53074432e-01 -8.22842878e-01\n",
      "  5.38195550e-01  1.34585159e+00 -1.11966983e+00  1.75121130e-01\n",
      " -4.51449183e-01 -2.37033239e-01 -3.81947870e-02  8.03486925e-01\n",
      "  4.08542360e-01 -9.43069713e-03  7.98278495e-01 -1.37458080e-01\n",
      "  1.41266984e-01 -2.06009588e-01  5.02292224e-01  2.19422230e-01\n",
      "  2.15153147e-01  6.99900000e+01]\n"
     ]
    }
   ],
   "source": [
    "# print(data.values)\n",
    "print(len(data.columns))\n",
    "# X = data.iloc[:,]\n",
    "numIndex = len(data.columns)\n",
    "featureVec = data.iloc[:,:numIndex-1]\n",
    "labelVec = data.iloc[:,numIndex-1]\n",
    "# print(featureVec.values[4,:])\n",
    "print(len(labelVec.values))"
   ]
  },
  {
   "cell_type": "code",
   "execution_count": 5,
   "metadata": {},
   "outputs": [
    {
     "name": "stdout",
     "output_type": "stream",
     "text": [
      "creditcard.csv\tfraud_detection.ipynb  README.md\r\n"
     ]
    }
   ],
   "source": [
    "def load_data(filename = 'creditcard.csv', ignoreTime = False):\n",
    "    data = pd.read_csv(filename)\n",
    "    numIndex = len(data.columns)\n",
    "    featureVec = data.iloc[:,:numIndex-1]\n",
    "    labelVec = data.iloc[:,numIndex-1]\n",
    "    return featureVec.values, labelVec.values"
   ]
  },
  {
   "cell_type": "code",
   "execution_count": null,
   "metadata": {},
   "outputs": [],
   "source": [
    "def resampling(X,y,alpha,method='under_sampling'):\n",
    "    \n",
    "    "
   ]
  }
 ],
 "metadata": {
  "kernelspec": {
   "display_name": "Python [conda env:anaconda2]",
   "language": "python",
   "name": "conda-env-anaconda2-py"
  },
  "language_info": {
   "codemirror_mode": {
    "name": "ipython",
    "version": 2
   },
   "file_extension": ".py",
   "mimetype": "text/x-python",
   "name": "python",
   "nbconvert_exporter": "python",
   "pygments_lexer": "ipython2",
   "version": "2.7.14"
  }
 },
 "nbformat": 4,
 "nbformat_minor": 2
}
